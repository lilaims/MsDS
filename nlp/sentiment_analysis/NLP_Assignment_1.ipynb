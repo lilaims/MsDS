{
  "cells": [
    {
      "cell_type": "markdown",
      "metadata": {
        "id": "c6iggc9zNnlC"
      },
      "source": [
        "# NLP Assignment 1 (40% of grade): Sentiment Analysis from Tweets\n",
        "\n",
        "This coursework will involve you implementing functions for a text classifier, which you will train to identify the **sentiment expressed in a text** in a dataset of approx. 27,000 entries, which will be split into a 80%/20% training/test split.\n",
        "\n",
        "In this template you are given the basis for that implementation, though some of the functions are missing, which you have to fill in.\n",
        "\n",
        "Follow the instructions file **NLP_Assignment_1_Instructions.pdf** for details of each question - the outline of what needs to be achieved for each question is as below.\n",
        "\n",
        "You must submit all **ipython notebooks and extra resources you need to run the code if you've added them** in the code submission, and a **2 page report (pdf)** in the report submission on QMPlus where you report your methods and findings according to the instructions file for each question."
      ]
    },
    {
      "cell_type": "code",
      "source": [
        "import nltk\n",
        "nltk.download('punkt')\n"
      ],
      "metadata": {
        "colab": {
          "base_uri": "https://localhost:8080/"
        },
        "id": "Vbi512xUNvSm",
        "outputId": "ce53085c-2533-41ef-9afb-54245832320e"
      },
      "execution_count": 43,
      "outputs": [
        {
          "output_type": "stream",
          "name": "stderr",
          "text": [
            "[nltk_data] Downloading package punkt to /root/nltk_data...\n",
            "[nltk_data]   Package punkt is already up-to-date!\n"
          ]
        },
        {
          "output_type": "execute_result",
          "data": {
            "text/plain": [
              "True"
            ]
          },
          "metadata": {},
          "execution_count": 43
        }
      ]
    },
    {
      "cell_type": "code",
      "execution_count": 44,
      "metadata": {
        "id": "gvNvrnsyNnlG"
      },
      "outputs": [],
      "source": [
        "import csv                               # csv reader\n",
        "from sklearn.svm import LinearSVC\n",
        "from nltk.classify import SklearnClassifier\n",
        "from sklearn.pipeline import Pipeline\n",
        "from sklearn.metrics import precision_recall_fscore_support # to report on precision and recall\n",
        "import numpy as np\n",
        "\n",
        "from nltk import word_tokenize, sent_tokenize\n",
        "from sklearn.feature_extraction.text import CountVectorizer\n",
        "\n",
        "vectorizer = CountVectorizer()"
      ]
    },
    {
      "cell_type": "code",
      "execution_count": 45,
      "metadata": {
        "id": "OMVVIvSANnlH"
      },
      "outputs": [],
      "source": [
        "def load_data(path):\n",
        "    \"\"\"Load data from a tab-separated file and append it to raw_data.\"\"\"\n",
        "\n",
        "    with open(path) as f:\n",
        "        reader = csv.reader(f, delimiter='\\t')\n",
        "        for line in reader:\n",
        "            if line[0] == \"Id\":  # skip header\n",
        "                continue\n",
        "            (label, text) = parse_data_line(line)\n",
        "            raw_data.append((text, label))\n",
        "\n",
        "def split_and_preprocess_data(percentage):\n",
        "    \"\"\"Split the data between train_data and test_data according to the percentage\n",
        "    and performs the preprocessing.\"\"\"\n",
        "    num_samples = len(raw_data)\n",
        "    num_training_samples = int((percentage * num_samples))\n",
        "    for (text, label) in raw_data[:num_training_samples]:\n",
        "        train_data.append((to_feature_vector(pre_process(text)),label))\n",
        "    for (text, label) in raw_data[num_training_samples:]:\n",
        "        test_data.append((to_feature_vector(pre_process(text)),label))"
      ]
    },
    {
      "cell_type": "markdown",
      "metadata": {
        "id": "MXHbm4MFNnlI"
      },
      "source": [
        "# Question 1: Input and Basic preprocessing (10 marks)"
      ]
    },
    {
      "cell_type": "code",
      "execution_count": 46,
      "metadata": {
        "id": "tIwSXo-KNnlJ"
      },
      "outputs": [],
      "source": [
        "def parse_data_line(data_line):\n",
        "    # Should return a tuple of the label as just FAKE or REAL and the statement\n",
        "    # e.g. (label, statement)\n",
        "    text = data_line[2]\n",
        "    label = data_line[1]\n",
        "    return (label , text)\n"
      ]
    },
    {
      "cell_type": "code",
      "execution_count": 47,
      "metadata": {
        "id": "HGXtAxefNnlJ"
      },
      "outputs": [],
      "source": [
        "\n",
        "# Input: a string of one statement\n",
        "def pre_process(text):\n",
        "    # Should return a list of tokens\n",
        "    # DESCRIBE YOUR METHOD IN WORDS\n",
        "    token_word = text.split(' ')\n",
        "\n",
        "    return token_word"
      ]
    },
    {
      "cell_type": "markdown",
      "metadata": {
        "id": "taTaeReUNnlK"
      },
      "source": [
        "# Question 2: Basic Feature Extraction (20 marks)"
      ]
    },
    {
      "cell_type": "code",
      "execution_count": 48,
      "metadata": {
        "id": "AACly_NJNnlK"
      },
      "outputs": [],
      "source": [
        "from scipy.sparse import csr_matrix\n",
        "\n",
        "global_feature_dict = {} # A global dictionary of features\n",
        "\n",
        "def to_feature_vector(tokens):\n",
        "    # Should return a dictionary containing features as keys, and weights as values\n",
        "    # DESCRIBE YOUR METHOD IN WORDS\n",
        "    tmp_dic = {}\n",
        "    for i in tokens:\n",
        "      tmp_dic[i] = tokens.count(i)\n",
        "    global_feature_dict.update(tmp_dic)\n",
        "\n",
        "    return tmp_dic\n"
      ]
    },
    {
      "cell_type": "code",
      "execution_count": 49,
      "metadata": {
        "id": "_qX3Dc2tNnlK"
      },
      "outputs": [],
      "source": [
        "# TRAINING AND VALIDATING OUR CLASSIFIER\n",
        "\n",
        "def train_classifier(data):\n",
        "    print(\"Training Classifier...\")\n",
        "    pipeline =  Pipeline([('svc', LinearSVC())])\n",
        "    return SklearnClassifier(pipeline).train(data)"
      ]
    },
    {
      "cell_type": "markdown",
      "metadata": {
        "id": "z46VZFqXNnlL"
      },
      "source": [
        "# Question 3: Cross-validation (20 marks)"
      ]
    },
    {
      "cell_type": "code",
      "execution_count": 50,
      "metadata": {
        "id": "jx2DLpCRNnlM"
      },
      "outputs": [],
      "source": [
        "#solution\n",
        "from sklearn.metrics import classification_report\n",
        "from sklearn.metrics import precision_score, recall_score, f1_score, accuracy_score\n",
        "from sklearn.metrics import confusion_matrix\n",
        "actual_sentiment = []\n",
        "pred = []\n",
        "\n",
        "precision = list()\n",
        "f1= list()\n",
        "acc= list()\n",
        "recall= list()\n",
        "\n",
        "cnf_mat = list()\n",
        "\n",
        "glb_yt = list()\n",
        "glb_yp = list()\n",
        "def cross_validate(dataset, folds):\n",
        "    results = []\n",
        "    fold_size = int(len(dataset)/folds) + 1\n",
        "    cx = 0\n",
        "    for i in range(0,10):\n",
        "      print('Fold',i+1)\n",
        "      for i in range(0,len(dataset),int(fold_size)):\n",
        "        # insert code here that trains and tests on the 10 folds of data in the dataset\n",
        "        # FILL IN THE METHOD HERE\n",
        "\n",
        "        print(\"Fold start on items %d - %d\" % (i, i+fold_size))\n",
        "        par_f = int(fold_size/10)\n",
        "        if cx==i:\n",
        "          tst_samp = dataset[i:i+fold_size]\n",
        "        else:\n",
        "          if len(dataset[i:i+fold_size])==0:\n",
        "             break\n",
        "          cls = train_classifier(dataset[i:i+fold_size])\n",
        "\n",
        "      if len(tst_samp)>0:\n",
        "        #test the trained sample\n",
        "          samp=list()\n",
        "          actual_sentiment = list()\n",
        "          for i in tst_samp:\n",
        "            samp.append(i[0])\n",
        "            actual_sentiment.append(i[1])\n",
        "          print('testing classifier on partition',cx+1)\n",
        "          pred = predict_labels(samp, cls)\n",
        "\n",
        "          glb_yt.append(actual_sentiment)\n",
        "          glb_yp.append(pred)\n",
        "\n",
        "          precision.append(precision_score(y_true=actual_sentiment, y_pred=pred, pos_label=\"positive\"))\n",
        "          recall.append(recall_score(actual_sentiment, pred,pos_label='positive'))\n",
        "          f1.append(f1_score(actual_sentiment, pred,pos_label='positive'))\n",
        "          acc.append(accuracy_score(actual_sentiment, pred))\n",
        "          #cnf_mat.append(confusion_matrix(actual_sentiment, pred, normalize='all'))\n",
        "          cnf_mat.append(confusion_matrix(actual_sentiment, pred))\n",
        "          cv_results = confusion_matrix(actual_sentiment, pred, normalize='all')\n",
        "\n",
        "          cx=cx+1\n",
        "\n",
        "    return None"
      ]
    },
    {
      "cell_type": "markdown",
      "source": [],
      "metadata": {
        "id": "FJ8sRGG0ZXl-"
      }
    },
    {
      "cell_type": "code",
      "execution_count": 51,
      "metadata": {
        "id": "Tru1qQIQNnlM"
      },
      "outputs": [],
      "source": [
        "# PREDICTING LABELS GIVEN A CLASSIFIER\n",
        "\n",
        "def predict_labels(samples, classifier):\n",
        "    \"\"\"Assuming preprocessed samples, return their predicted labels from the classifier model.\"\"\"\n",
        "    return classifier.classify_many(samples)\n",
        "\n",
        "def predict_label_from_raw(sample, classifier):\n",
        "    \"\"\"Assuming raw text, return its predicted label from the classifier model.\"\"\"\n",
        "    return classifier.classify(to_feature_vector(preProcess(reviewSample)))"
      ]
    },
    {
      "cell_type": "code",
      "execution_count": 52,
      "metadata": {
        "colab": {
          "base_uri": "https://localhost:8080/"
        },
        "id": "GVk8gliCNnlM",
        "outputId": "ec96c2a6-b708-4ad2-b074-df553d7a5982"
      },
      "outputs": [
        {
          "output_type": "stream",
          "name": "stdout",
          "text": [
            "Now 0 rawData, 0 trainData, 0 testData\n",
            "Preparing the dataset...\n",
            "Now 33540 rawData, 0 trainData, 0 testData\n",
            "Preparing training and test data...\n",
            "After split, 33540 rawData, 26832 trainData, 6708 testData\n",
            "Training Samples: \n",
            "26832\n",
            "Features: \n",
            "103970\n"
          ]
        }
      ],
      "source": [
        "# MAIN\n",
        "\n",
        "# loading reviews\n",
        "# initialize global lists that will be appended to by the methods below\n",
        "raw_data = []          # the filtered data from the dataset file\n",
        "train_data = []        # the pre-processed training data as a percentage of the total dataset\n",
        "test_data = []         # the pre-processed test data as a percentage of the total dataset\n",
        "\n",
        "\n",
        "# references to the data files\n",
        "data_file_path = 'sentiment-dataset.tsv'\n",
        "\n",
        "# Do the actual stuff (i.e. call the functions we've made)\n",
        "# We parse the dataset and put it in a raw data list\n",
        "print(\"Now %d rawData, %d trainData, %d testData\" % (len(raw_data), len(train_data), len(test_data)),\n",
        "      \"Preparing the dataset...\",sep='\\n')\n",
        "\n",
        "load_data(data_file_path)\n",
        "\n",
        "# We split the raw dataset into a set of training data and a set of test data (80/20)\n",
        "# You do the cross validation on the 80% (training data)\n",
        "# We print the number of training samples and the number of features before the split\n",
        "print(\"Now %d rawData, %d trainData, %d testData\" % (len(raw_data), len(train_data), len(test_data)),\n",
        "      \"Preparing training and test data...\",sep='\\n')\n",
        "\n",
        "split_and_preprocess_data(0.8)\n",
        "\n",
        "# We print the number of training samples and the number of features after the split\n",
        "print(\"After split, %d rawData, %d trainData, %d testData\" % (len(raw_data), len(train_data), len(test_data)),\n",
        "      \"Training Samples: \", len(train_data), \"Features: \", len(global_feature_dict), sep='\\n')\n"
      ]
    },
    {
      "cell_type": "code",
      "execution_count": 53,
      "metadata": {
        "colab": {
          "base_uri": "https://localhost:8080/"
        },
        "id": "_efqjbPANnlN",
        "outputId": "d1d472e3-4532-4792-fed2-e9f2df79ea3c"
      },
      "outputs": [
        {
          "output_type": "stream",
          "name": "stdout",
          "text": [
            "Fold 1\n",
            "Fold start on items 0 - 2684\n",
            "Fold start on items 2684 - 5368\n",
            "Training Classifier...\n",
            "Fold start on items 5368 - 8052\n",
            "Training Classifier...\n",
            "Fold start on items 8052 - 10736\n",
            "Training Classifier...\n",
            "Fold start on items 10736 - 13420\n",
            "Training Classifier...\n",
            "Fold start on items 13420 - 16104\n",
            "Training Classifier...\n",
            "Fold start on items 16104 - 18788\n",
            "Training Classifier...\n",
            "Fold start on items 18788 - 21472\n",
            "Training Classifier...\n",
            "Fold start on items 21472 - 24156\n",
            "Training Classifier...\n",
            "Fold start on items 24156 - 26840\n",
            "Training Classifier...\n",
            "testing classifier on partition 1\n",
            "Fold 2\n",
            "Fold start on items 0 - 2684\n",
            "Training Classifier...\n",
            "Fold start on items 2684 - 5368\n",
            "Training Classifier...\n",
            "Fold start on items 5368 - 8052\n",
            "Training Classifier...\n",
            "Fold start on items 8052 - 10736\n",
            "Training Classifier...\n",
            "Fold start on items 10736 - 13420\n",
            "Training Classifier...\n",
            "Fold start on items 13420 - 16104\n",
            "Training Classifier...\n",
            "Fold start on items 16104 - 18788\n",
            "Training Classifier...\n",
            "Fold start on items 18788 - 21472\n",
            "Training Classifier...\n",
            "Fold start on items 21472 - 24156\n",
            "Training Classifier...\n",
            "Fold start on items 24156 - 26840\n",
            "Training Classifier...\n",
            "testing classifier on partition 2\n",
            "Fold 3\n",
            "Fold start on items 0 - 2684\n",
            "Training Classifier...\n",
            "Fold start on items 2684 - 5368\n",
            "Training Classifier...\n",
            "Fold start on items 5368 - 8052\n",
            "Training Classifier...\n",
            "Fold start on items 8052 - 10736\n",
            "Training Classifier...\n",
            "Fold start on items 10736 - 13420\n",
            "Training Classifier...\n",
            "Fold start on items 13420 - 16104\n",
            "Training Classifier...\n",
            "Fold start on items 16104 - 18788\n",
            "Training Classifier...\n",
            "Fold start on items 18788 - 21472\n",
            "Training Classifier...\n",
            "Fold start on items 21472 - 24156\n",
            "Training Classifier...\n",
            "Fold start on items 24156 - 26840\n",
            "Training Classifier...\n",
            "testing classifier on partition 3\n",
            "Fold 4\n",
            "Fold start on items 0 - 2684\n",
            "Training Classifier...\n",
            "Fold start on items 2684 - 5368\n",
            "Training Classifier...\n",
            "Fold start on items 5368 - 8052\n",
            "Training Classifier...\n",
            "Fold start on items 8052 - 10736\n",
            "Training Classifier...\n",
            "Fold start on items 10736 - 13420\n",
            "Training Classifier...\n",
            "Fold start on items 13420 - 16104\n",
            "Training Classifier...\n",
            "Fold start on items 16104 - 18788\n",
            "Training Classifier...\n",
            "Fold start on items 18788 - 21472\n",
            "Training Classifier...\n",
            "Fold start on items 21472 - 24156\n",
            "Training Classifier...\n",
            "Fold start on items 24156 - 26840\n",
            "Training Classifier...\n",
            "testing classifier on partition 4\n",
            "Fold 5\n",
            "Fold start on items 0 - 2684\n",
            "Training Classifier...\n",
            "Fold start on items 2684 - 5368\n",
            "Training Classifier...\n",
            "Fold start on items 5368 - 8052\n",
            "Training Classifier...\n",
            "Fold start on items 8052 - 10736\n",
            "Training Classifier...\n",
            "Fold start on items 10736 - 13420\n",
            "Training Classifier...\n",
            "Fold start on items 13420 - 16104\n",
            "Training Classifier...\n",
            "Fold start on items 16104 - 18788\n",
            "Training Classifier...\n",
            "Fold start on items 18788 - 21472\n",
            "Training Classifier...\n",
            "Fold start on items 21472 - 24156\n",
            "Training Classifier...\n",
            "Fold start on items 24156 - 26840\n",
            "Training Classifier...\n",
            "testing classifier on partition 5\n",
            "Fold 6\n",
            "Fold start on items 0 - 2684\n",
            "Training Classifier...\n",
            "Fold start on items 2684 - 5368\n",
            "Training Classifier...\n",
            "Fold start on items 5368 - 8052\n",
            "Training Classifier...\n",
            "Fold start on items 8052 - 10736\n",
            "Training Classifier...\n",
            "Fold start on items 10736 - 13420\n",
            "Training Classifier...\n",
            "Fold start on items 13420 - 16104\n",
            "Training Classifier...\n",
            "Fold start on items 16104 - 18788\n",
            "Training Classifier...\n",
            "Fold start on items 18788 - 21472\n",
            "Training Classifier...\n",
            "Fold start on items 21472 - 24156\n",
            "Training Classifier...\n",
            "Fold start on items 24156 - 26840\n",
            "Training Classifier...\n",
            "testing classifier on partition 6\n",
            "Fold 7\n",
            "Fold start on items 0 - 2684\n",
            "Training Classifier...\n",
            "Fold start on items 2684 - 5368\n",
            "Training Classifier...\n",
            "Fold start on items 5368 - 8052\n",
            "Training Classifier...\n",
            "Fold start on items 8052 - 10736\n",
            "Training Classifier...\n",
            "Fold start on items 10736 - 13420\n",
            "Training Classifier...\n",
            "Fold start on items 13420 - 16104\n",
            "Training Classifier...\n",
            "Fold start on items 16104 - 18788\n",
            "Training Classifier...\n",
            "Fold start on items 18788 - 21472\n",
            "Training Classifier...\n",
            "Fold start on items 21472 - 24156\n",
            "Training Classifier...\n",
            "Fold start on items 24156 - 26840\n",
            "Training Classifier...\n",
            "testing classifier on partition 7\n",
            "Fold 8\n",
            "Fold start on items 0 - 2684\n",
            "Training Classifier...\n",
            "Fold start on items 2684 - 5368\n",
            "Training Classifier...\n",
            "Fold start on items 5368 - 8052\n",
            "Training Classifier...\n",
            "Fold start on items 8052 - 10736\n",
            "Training Classifier...\n",
            "Fold start on items 10736 - 13420\n",
            "Training Classifier...\n",
            "Fold start on items 13420 - 16104\n",
            "Training Classifier...\n",
            "Fold start on items 16104 - 18788\n",
            "Training Classifier...\n",
            "Fold start on items 18788 - 21472\n",
            "Training Classifier...\n",
            "Fold start on items 21472 - 24156\n",
            "Training Classifier...\n",
            "Fold start on items 24156 - 26840\n",
            "Training Classifier...\n",
            "testing classifier on partition 8\n",
            "Fold 9\n",
            "Fold start on items 0 - 2684\n",
            "Training Classifier...\n",
            "Fold start on items 2684 - 5368\n",
            "Training Classifier...\n",
            "Fold start on items 5368 - 8052\n",
            "Training Classifier...\n",
            "Fold start on items 8052 - 10736\n",
            "Training Classifier...\n",
            "Fold start on items 10736 - 13420\n",
            "Training Classifier...\n",
            "Fold start on items 13420 - 16104\n",
            "Training Classifier...\n",
            "Fold start on items 16104 - 18788\n",
            "Training Classifier...\n",
            "Fold start on items 18788 - 21472\n",
            "Training Classifier...\n",
            "Fold start on items 21472 - 24156\n",
            "Training Classifier...\n",
            "Fold start on items 24156 - 26840\n",
            "Training Classifier...\n",
            "testing classifier on partition 9\n",
            "Fold 10\n",
            "Fold start on items 0 - 2684\n",
            "Training Classifier...\n",
            "Fold start on items 2684 - 5368\n",
            "Training Classifier...\n",
            "Fold start on items 5368 - 8052\n",
            "Training Classifier...\n",
            "Fold start on items 8052 - 10736\n",
            "Training Classifier...\n",
            "Fold start on items 10736 - 13420\n",
            "Training Classifier...\n",
            "Fold start on items 13420 - 16104\n",
            "Training Classifier...\n",
            "Fold start on items 16104 - 18788\n",
            "Training Classifier...\n",
            "Fold start on items 18788 - 21472\n",
            "Training Classifier...\n",
            "Fold start on items 21472 - 24156\n",
            "Training Classifier...\n",
            "Fold start on items 24156 - 26840\n",
            "Training Classifier...\n",
            "testing classifier on partition 10\n"
          ]
        }
      ],
      "source": [
        "cross_validate(train_data, 10)  # will work and output overall performance of p, r, f-score when cv implemented"
      ]
    },
    {
      "cell_type": "markdown",
      "metadata": {
        "id": "avWcWEVzNnlN"
      },
      "source": [
        "# Question 4: Error Analysis (20 marks)"
      ]
    },
    {
      "cell_type": "code",
      "source": [
        "prec_avg=0\n",
        "acc_avg=0\n",
        "rec_avg=0\n",
        "f1_avg=0\n",
        "for i in range(0,10):\n",
        "  prec_avg=prec_avg+precision[i]\n",
        "  acc_avg=acc_avg+acc[i]\n",
        "  rec_avg=rec_avg+recall[i]\n",
        "  f1_avg=f1_avg+f1[i]\n",
        "\n",
        "prec_avg=prec_avg/10\n",
        "acc_avg=acc_avg/10\n",
        "rec_avg=rec_avg/10\n",
        "f1_avg=f1_avg/10\n",
        "\n",
        "\n",
        "print('Precision: ',prec_avg)\n",
        "print('Accuracy: ',acc_avg)\n",
        "print('Recall: ',rec_avg)\n",
        "print('F1: ',f1_avg)\n",
        "#cnf_mat"
      ],
      "metadata": {
        "colab": {
          "base_uri": "https://localhost:8080/"
        },
        "id": "km6kD6cviOxU",
        "outputId": "b2052467-c3ff-4a3c-dba0-0284dc22ec03"
      },
      "execution_count": 54,
      "outputs": [
        {
          "output_type": "stream",
          "name": "stdout",
          "text": [
            "Precision:  0.8168734491315137\n",
            "Accuracy:  0.7805514157973175\n",
            "Recall:  0.8821007502679528\n",
            "F1:  0.8482349909817055\n"
          ]
        }
      ]
    },
    {
      "cell_type": "code",
      "execution_count": 55,
      "metadata": {
        "id": "QxYyYwxFNnlO"
      },
      "outputs": [],
      "source": [
        "from sklearn import metrics\n",
        "import matplotlib.pyplot as plt\n",
        "# a function to make the confusion matrix readable and pretty\n",
        "def confusion_matrix_heatmap(y_test, preds, labels):\n",
        "    \"\"\"Function to plot a confusion matrix\"\"\"\n",
        "    # pass labels to the confusion matrix function to ensure right order\n",
        "    # cm = metrics.confusion_matrix(y_test, preds, labels)\n",
        "    cm = metrics.confusion_matrix(y_test, preds,labels =labels)\n",
        "   # cm = cnf_mat\n",
        "    fig = plt.figure(figsize=(10,10))\n",
        "    ax = fig.add_subplot(111)\n",
        "    cax = ax.matshow(cm)\n",
        "    plt.title('Confusion matrix of the classifier')\n",
        "    fig.colorbar(cax)\n",
        "    ax.set_xticks(np.arange(len(labels)))\n",
        "    ax.set_yticks(np.arange(len(labels)))\n",
        "    ax.set_xticklabels( labels, rotation=45)\n",
        "    ax.set_yticklabels( labels)\n",
        "\n",
        "    for i in range(len(cm)):\n",
        "        for j in range(len(cm)):\n",
        "            text = ax.text(j, i, cm[i, j],\n",
        "                           ha=\"center\", va=\"center\", color=\"w\")\n",
        "\n",
        "    plt.xlabel('Predicted')\n",
        "    plt.ylabel('True')\n",
        "\n",
        "    # fix for mpl bug that cuts off top/bottom of seaborn viz:\n",
        "    b, t = plt.ylim() # discover the values for bottom and top\n",
        "    b += 0.5 # Add 0.5 to the bottom\n",
        "    t -= 0.5 # Subtract 0.5 from the top\n",
        "    plt.ylim(b, t) # update the ylim(bottom, top) values\n",
        "    plt.show() # ta-da!\n",
        "    plt.show()"
      ]
    },
    {
      "cell_type": "code",
      "source": [
        "#glb_yp\n",
        "confusion_matrix_heatmap(glb_yt[0] , glb_yp[0] , labels=['positive', 'negative'])"
      ],
      "metadata": {
        "colab": {
          "base_uri": "https://localhost:8080/",
          "height": 916
        },
        "id": "vVCL_lVwGzVD",
        "outputId": "11f588de-488a-4916-c5f4-9b72e6173b00"
      },
      "execution_count": 56,
      "outputs": [
        {
          "output_type": "display_data",
          "data": {
            "text/plain": [
              "<Figure size 1000x1000 with 2 Axes>"
            ],
            "image/png": "[encoded data removed]"
          },
          "metadata": {}
        }
      ]
    },
    {
      "cell_type": "markdown",
      "metadata": {
        "id": "X3M8RtOtNnlO"
      },
      "source": [
        "# Questions 5: Optimising pre-processing and feature extraction (30 marks)"
      ]
    },
    {
      "cell_type": "markdown",
      "metadata": {
        "id": "ru2U444PNnlO"
      },
      "source": [
        "**Note:** it is advisable to implement question 5 in a separate notebook where you further develop the pre-processing and feature extraction functions you implemented above."
      ]
    },
    {
      "cell_type": "code",
      "execution_count": 57,
      "metadata": {
        "id": "TVA0yn9UNnlO",
        "colab": {
          "base_uri": "https://localhost:8080/"
        },
        "outputId": "4d6a1ba0-8461-447c-92e8-0c110a44c875"
      },
      "outputs": [
        {
          "output_type": "stream",
          "name": "stdout",
          "text": [
            "({'Tomorrow': 1, \"we'll\": 1, 'release': 1, 'our': 2, '58th': 1, 'episode': 1, 'of': 1, '#HSonAir': 1, 'profiling': 1, 'very': 1, 'own': 1, '@AlissaDosSantos': 1, '!': 1, \"We'll\": 1, 'talk': 1, 'about': 1, 'storytelling': 1, 'and': 1, 'Beyonce!': 1}, 'positive')\n",
            "Training Classifier...\n",
            "Done training!\n",
            "Precision: 0.832458\n",
            "Recall: 0.834228\n",
            "F Score:0.832938\n"
          ]
        }
      ],
      "source": [
        "# Finally, check the accuracy of your classifier by training on all the traning data\n",
        "# and testing on the test set\n",
        "# Will only work once all functions are complete\n",
        "functions_complete = True  # set to True once you're happy with your methods for cross val\n",
        "if functions_complete:\n",
        "    print(test_data[0])   # have a look at the first test data instance\n",
        "    classifier = train_classifier(train_data)  # train the classifier\n",
        "    test_true = [t[1] for t in test_data]   # get the ground-truth labels from the data\n",
        "    test_pred = predict_labels([x[0] for x in test_data], classifier)  # classify the test data to get predicted labels\n",
        "    final_scores = precision_recall_fscore_support(test_true, test_pred, average='weighted') # evaluate\n",
        "    print(\"Done training!\")\n",
        "    print(\"Precision: %f\\nRecall: %f\\nF Score:%f\" % final_scores[:3])"
      ]
    },
    {
      "cell_type": "code",
      "execution_count": 57,
      "metadata": {
        "id": "VsWneb5uNnlP"
      },
      "outputs": [],
      "source": []
    },
    {
      "cell_type": "code",
      "execution_count": 57,
      "metadata": {
        "id": "x_tRk-mMNnlP"
      },
      "outputs": [],
      "source": []
    }
  ],
  "metadata": {
    "kernelspec": {
      "display_name": "Python 3 (ipykernel)",
      "language": "python",
      "name": "python3"
    },
    "language_info": {
      "codemirror_mode": {
        "name": "ipython",
        "version": 3
      },
      "file_extension": ".py",
      "mimetype": "text/x-python",
      "name": "python",
      "nbconvert_exporter": "python",
      "pygments_lexer": "ipython3",
      "version": "3.10.12"
    },
    "colab": {
      "provenance": []
    }
  },
  "nbformat": 4,
  "nbformat_minor": 0
}